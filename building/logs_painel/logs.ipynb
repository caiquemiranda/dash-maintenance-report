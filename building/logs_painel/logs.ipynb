{
 "cells": [
  {
   "cell_type": "markdown",
   "metadata": {},
   "source": [
    "# Análise de Logs do Painel de Sensores de Incêndio\n",
    "\n",
    "Este notebook processa os logs do painel de sensores de incêndio e extrai informações relevantes para análise."
   ]
  },
  {
   "cell_type": "code",
   "execution_count": 1,
   "metadata": {},
   "outputs": [],
   "source": [
    "import pandas as pd\n",
    "import re\n",
    "import datetime\n",
    "import plotly.express as px"
   ]
  },
  {
   "cell_type": "code",
   "execution_count": 2,
   "metadata": {},
   "outputs": [],
   "source": [
    "def ler_arquivo_log(caminho):\n",
    "    \"\"\"Lê o arquivo de log e retorna seu conteúdo\"\"\"\n",
    "    with open(caminho, 'r', encoding='utf-8') as file:\n",
    "        return file.read()"
   ]
  },
  {
   "cell_type": "code",
   "execution_count": 3,
   "metadata": {},
   "outputs": [],
   "source": [
    "def extrair_informacoes(conteudo):\n",
    "    \"\"\"Extrai informações do conteúdo do log usando regex\"\"\"\n",
    "    # Padrão para encontrar as linhas de dados\n",
    "    padrao = r'^\\s*(\\d+)\\s+([\\w\\-\\d]+)\\s+([*]?[\\d\\.]+/\\d+)\\s+(\\d+)\\s+(\\d+/\\s*\\d+%)\\s+(\\d+/\\s*\\d+%)\\s+(\\w+)'\n",
    "    \n",
    "    dados = []\n",
    "    channel = None\n",
    "    data_hora = None\n",
    "    \n",
    "    for linha in conteudo.split('\\n'):\n",
    "        # Extrair informação do canal\n",
    "        canal_match = re.search(r'Channel (\\d+) \\((M\\d+)\\)', linha)\n",
    "        if canal_match:\n",
    "            channel = canal_match.group(1)\n",
    "            continue\n",
    "            \n",
    "        # Extrair data e hora\n",
    "        data_match = re.search(r'(\\d{2}:\\d{2}:\\d{2})\\s+(\\w{3})\\s+(\\d{2})-(\\w{3})-(\\d{2})', linha)\n",
    "        if data_match:\n",
    "            hora = data_match.group(1)\n",
    "            dia_semana = data_match.group(2)\n",
    "            dia = data_match.group(3)\n",
    "            mes = data_match.group(4)\n",
    "            ano = data_match.group(5)\n",
    "            data_hora = f\"{dia}/{mes}/20{ano} {hora}\"\n",
    "            continue\n",
    "            \n",
    "        # Extrair dados dos sensores\n",
    "        match = re.match(padrao, linha)\n",
    "        if match:\n",
    "            dev_num, label, alarm_at, avg_val, current_alarm, peak_alarm, state = match.groups()\n",
    "            \n",
    "            dados.append({\n",
    "                'Channel': channel,\n",
    "                'DateTime': data_hora,\n",
    "                'DeviceNumber': dev_num.strip(),\n",
    "                'Label': label.strip(),\n",
    "                'AlarmAt': alarm_at.strip(),\n",
    "                'AverageValue': avg_val.strip(),\n",
    "                'CurrentAlarm': current_alarm.strip(),\n",
    "                'PeakAlarm': peak_alarm.strip(),\n",
    "                'State': state.strip()\n",
    "            })\n",
    "    \n",
    "    return pd.DataFrame(dados)"
   ]
  },
  {
   "cell_type": "code",
   "execution_count": 4,
   "metadata": {},
   "outputs": [
    {
     "name": "stdout",
     "output_type": "stream",
     "text": [
      "Dimensões do DataFrame: (220, 9)\n"
     ]
    },
    {
     "data": {
      "text/html": [
       "<div>\n",
       "<style scoped>\n",
       "    .dataframe tbody tr th:only-of-type {\n",
       "        vertical-align: middle;\n",
       "    }\n",
       "\n",
       "    .dataframe tbody tr th {\n",
       "        vertical-align: top;\n",
       "    }\n",
       "\n",
       "    .dataframe thead th {\n",
       "        text-align: right;\n",
       "    }\n",
       "</style>\n",
       "<table border=\"1\" class=\"dataframe\">\n",
       "  <thead>\n",
       "    <tr style=\"text-align: right;\">\n",
       "      <th></th>\n",
       "      <th>Channel</th>\n",
       "      <th>DateTime</th>\n",
       "      <th>DeviceNumber</th>\n",
       "      <th>Label</th>\n",
       "      <th>AlarmAt</th>\n",
       "      <th>AverageValue</th>\n",
       "      <th>CurrentAlarm</th>\n",
       "      <th>PeakAlarm</th>\n",
       "      <th>State</th>\n",
       "    </tr>\n",
       "  </thead>\n",
       "  <tbody>\n",
       "    <tr>\n",
       "      <th>0</th>\n",
       "      <td>1</td>\n",
       "      <td>13/FEB/2025 10:11:47</td>\n",
       "      <td>18</td>\n",
       "      <td>N1-L01-018-DF-FRALDARIO-TE-PE</td>\n",
       "      <td>*2.5/131</td>\n",
       "      <td>63</td>\n",
       "      <td>65/  0%</td>\n",
       "      <td>202/100%</td>\n",
       "      <td>NOR</td>\n",
       "    </tr>\n",
       "    <tr>\n",
       "      <th>1</th>\n",
       "      <td>1</td>\n",
       "      <td>13/FEB/2025 10:11:49</td>\n",
       "      <td>56</td>\n",
       "      <td>N1-L01-056-DF-CIRCULACAO-TE-PE</td>\n",
       "      <td>2.5/146</td>\n",
       "      <td>78</td>\n",
       "      <td>79/  0%</td>\n",
       "      <td>83/  4%</td>\n",
       "      <td>NOR</td>\n",
       "    </tr>\n",
       "    <tr>\n",
       "      <th>2</th>\n",
       "      <td>1</td>\n",
       "      <td>13/FEB/2025 10:11:49</td>\n",
       "      <td>57</td>\n",
       "      <td>N1-L01-057-DF-CIRCULACAO-TE-PE</td>\n",
       "      <td>2.5/130</td>\n",
       "      <td>62</td>\n",
       "      <td>62/  0%</td>\n",
       "      <td>82/ 28%</td>\n",
       "      <td>NOR</td>\n",
       "    </tr>\n",
       "    <tr>\n",
       "      <th>3</th>\n",
       "      <td>1</td>\n",
       "      <td>13/FEB/2025 10:11:49</td>\n",
       "      <td>58</td>\n",
       "      <td>N1-L01-058-DF-CIRCULACAO-TE-PE</td>\n",
       "      <td>*2.5/122</td>\n",
       "      <td>54</td>\n",
       "      <td>54/  0%</td>\n",
       "      <td>255/100%</td>\n",
       "      <td>NOR</td>\n",
       "    </tr>\n",
       "    <tr>\n",
       "      <th>4</th>\n",
       "      <td>1</td>\n",
       "      <td>13/FEB/2025 10:11:49</td>\n",
       "      <td>59</td>\n",
       "      <td>N1-L01-059-DF-CIRCULACAO-TE-PE</td>\n",
       "      <td>*2.5/122</td>\n",
       "      <td>54</td>\n",
       "      <td>53/  0%</td>\n",
       "      <td>148/100%</td>\n",
       "      <td>NOR</td>\n",
       "    </tr>\n",
       "  </tbody>\n",
       "</table>\n",
       "</div>"
      ],
      "text/plain": [
       "  Channel              DateTime DeviceNumber                           Label  \\\n",
       "0       1  13/FEB/2025 10:11:47           18   N1-L01-018-DF-FRALDARIO-TE-PE   \n",
       "1       1  13/FEB/2025 10:11:49           56  N1-L01-056-DF-CIRCULACAO-TE-PE   \n",
       "2       1  13/FEB/2025 10:11:49           57  N1-L01-057-DF-CIRCULACAO-TE-PE   \n",
       "3       1  13/FEB/2025 10:11:49           58  N1-L01-058-DF-CIRCULACAO-TE-PE   \n",
       "4       1  13/FEB/2025 10:11:49           59  N1-L01-059-DF-CIRCULACAO-TE-PE   \n",
       "\n",
       "    AlarmAt AverageValue CurrentAlarm PeakAlarm State  \n",
       "0  *2.5/131           63      65/  0%  202/100%   NOR  \n",
       "1   2.5/146           78      79/  0%   83/  4%   NOR  \n",
       "2   2.5/130           62      62/  0%   82/ 28%   NOR  \n",
       "3  *2.5/122           54      54/  0%  255/100%   NOR  \n",
       "4  *2.5/122           54      53/  0%  148/100%   NOR  "
      ]
     },
     "execution_count": 4,
     "metadata": {},
     "output_type": "execute_result"
    }
   ],
   "source": [
    "# Ler e processar o arquivo\n",
    "caminho_arquivo = 'data/TrueAlarmService.txt'\n",
    "conteudo = ler_arquivo_log(caminho_arquivo)\n",
    "df = extrair_informacoes(conteudo)\n",
    "\n",
    "# Exibir as primeiras linhas do DataFrame\n",
    "print(\"Dimensões do DataFrame:\", df.shape)\n",
    "df.head()"
   ]
  },
  {
   "cell_type": "code",
   "execution_count": 5,
   "metadata": {},
   "outputs": [
    {
     "ename": "ValueError",
     "evalue": "could not convert string to float: '*2.5'",
     "output_type": "error",
     "traceback": [
      "\u001b[1;31m---------------------------------------------------------------------------\u001b[0m",
      "\u001b[1;31mValueError\u001b[0m                                Traceback (most recent call last)",
      "Input \u001b[1;32mIn [5]\u001b[0m, in \u001b[0;36m<cell line: 23>\u001b[1;34m()\u001b[0m\n\u001b[0;32m     19\u001b[0m     df[\u001b[38;5;124m'\u001b[39m\u001b[38;5;124mSensorType\u001b[39m\u001b[38;5;124m'\u001b[39m] \u001b[38;5;241m=\u001b[39m df[\u001b[38;5;124m'\u001b[39m\u001b[38;5;124mLabel\u001b[39m\u001b[38;5;124m'\u001b[39m]\u001b[38;5;241m.\u001b[39mapply(\u001b[38;5;28;01mlambda\u001b[39;00m x: x\u001b[38;5;241m.\u001b[39msplit(\u001b[38;5;124m'\u001b[39m\u001b[38;5;124m-\u001b[39m\u001b[38;5;124m'\u001b[39m)[\u001b[38;5;241m-\u001b[39m\u001b[38;5;241m1\u001b[39m] \u001b[38;5;28;01mif\u001b[39;00m \u001b[38;5;28mlen\u001b[39m(x\u001b[38;5;241m.\u001b[39msplit(\u001b[38;5;124m'\u001b[39m\u001b[38;5;124m-\u001b[39m\u001b[38;5;124m'\u001b[39m)) \u001b[38;5;241m>\u001b[39m \u001b[38;5;241m1\u001b[39m \u001b[38;5;28;01melse\u001b[39;00m \u001b[38;5;124m'\u001b[39m\u001b[38;5;124m'\u001b[39m)\n\u001b[0;32m     21\u001b[0m     \u001b[38;5;28;01mreturn\u001b[39;00m df\n\u001b[1;32m---> 23\u001b[0m df_processado \u001b[38;5;241m=\u001b[39m \u001b[43mprocessar_dados\u001b[49m\u001b[43m(\u001b[49m\u001b[43mdf\u001b[49m\u001b[43m)\u001b[49m\n\u001b[0;32m     24\u001b[0m df_processado\u001b[38;5;241m.\u001b[39mhead()\n",
      "Input \u001b[1;32mIn [5]\u001b[0m, in \u001b[0;36mprocessar_dados\u001b[1;34m(df)\u001b[0m\n\u001b[0;32m      4\u001b[0m df[\u001b[38;5;124m'\u001b[39m\u001b[38;5;124mDateTime\u001b[39m\u001b[38;5;124m'\u001b[39m] \u001b[38;5;241m=\u001b[39m pd\u001b[38;5;241m.\u001b[39mto_datetime(df[\u001b[38;5;124m'\u001b[39m\u001b[38;5;124mDateTime\u001b[39m\u001b[38;5;124m'\u001b[39m], \u001b[38;5;28mformat\u001b[39m\u001b[38;5;241m=\u001b[39m\u001b[38;5;124m'\u001b[39m\u001b[38;5;132;01m%d\u001b[39;00m\u001b[38;5;124m/\u001b[39m\u001b[38;5;124m%\u001b[39m\u001b[38;5;124mb/\u001b[39m\u001b[38;5;124m%\u001b[39m\u001b[38;5;124mY \u001b[39m\u001b[38;5;124m%\u001b[39m\u001b[38;5;124mH:\u001b[39m\u001b[38;5;124m%\u001b[39m\u001b[38;5;124mM:\u001b[39m\u001b[38;5;124m%\u001b[39m\u001b[38;5;124mS\u001b[39m\u001b[38;5;124m'\u001b[39m)\n\u001b[0;32m      6\u001b[0m \u001b[38;5;66;03m# Extrair valores numéricos dos campos de alarme\u001b[39;00m\n\u001b[1;32m----> 7\u001b[0m df[\u001b[38;5;124m'\u001b[39m\u001b[38;5;124mAlarmThreshold\u001b[39m\u001b[38;5;124m'\u001b[39m] \u001b[38;5;241m=\u001b[39m \u001b[43mdf\u001b[49m\u001b[43m[\u001b[49m\u001b[38;5;124;43m'\u001b[39;49m\u001b[38;5;124;43mAlarmAt\u001b[39;49m\u001b[38;5;124;43m'\u001b[39;49m\u001b[43m]\u001b[49m\u001b[38;5;241;43m.\u001b[39;49m\u001b[43mapply\u001b[49m\u001b[43m(\u001b[49m\u001b[38;5;28;43;01mlambda\u001b[39;49;00m\u001b[43m \u001b[49m\u001b[43mx\u001b[49m\u001b[43m:\u001b[49m\u001b[43m \u001b[49m\u001b[38;5;28;43mfloat\u001b[39;49m\u001b[43m(\u001b[49m\u001b[43mx\u001b[49m\u001b[38;5;241;43m.\u001b[39;49m\u001b[43msplit\u001b[49m\u001b[43m(\u001b[49m\u001b[38;5;124;43m'\u001b[39;49m\u001b[38;5;124;43m/\u001b[39;49m\u001b[38;5;124;43m'\u001b[39;49m\u001b[43m)\u001b[49m\u001b[43m[\u001b[49m\u001b[38;5;241;43m0\u001b[39;49m\u001b[43m]\u001b[49m\u001b[43m)\u001b[49m\u001b[43m)\u001b[49m\n\u001b[0;32m      8\u001b[0m df[\u001b[38;5;124m'\u001b[39m\u001b[38;5;124mAlarmValue\u001b[39m\u001b[38;5;124m'\u001b[39m] \u001b[38;5;241m=\u001b[39m df[\u001b[38;5;124m'\u001b[39m\u001b[38;5;124mAlarmAt\u001b[39m\u001b[38;5;124m'\u001b[39m]\u001b[38;5;241m.\u001b[39mapply(\u001b[38;5;28;01mlambda\u001b[39;00m x: \u001b[38;5;28mint\u001b[39m(x\u001b[38;5;241m.\u001b[39msplit(\u001b[38;5;124m'\u001b[39m\u001b[38;5;124m/\u001b[39m\u001b[38;5;124m'\u001b[39m)[\u001b[38;5;241m1\u001b[39m]))\n\u001b[0;32m     10\u001b[0m \u001b[38;5;66;03m# Extrair valores de Current e Peak Alarm\u001b[39;00m\n",
      "File \u001b[1;32mc:\\Users\\Caíque Miranda\\AppData\\Local\\Programs\\Python\\Python310\\lib\\site-packages\\pandas\\core\\series.py:4433\u001b[0m, in \u001b[0;36mSeries.apply\u001b[1;34m(self, func, convert_dtype, args, **kwargs)\u001b[0m\n\u001b[0;32m   4323\u001b[0m \u001b[38;5;28;01mdef\u001b[39;00m \u001b[38;5;21mapply\u001b[39m(\n\u001b[0;32m   4324\u001b[0m     \u001b[38;5;28mself\u001b[39m,\n\u001b[0;32m   4325\u001b[0m     func: AggFuncType,\n\u001b[1;32m   (...)\u001b[0m\n\u001b[0;32m   4328\u001b[0m     \u001b[38;5;241m*\u001b[39m\u001b[38;5;241m*\u001b[39mkwargs,\n\u001b[0;32m   4329\u001b[0m ) \u001b[38;5;241m-\u001b[39m\u001b[38;5;241m>\u001b[39m DataFrame \u001b[38;5;241m|\u001b[39m Series:\n\u001b[0;32m   4330\u001b[0m     \u001b[38;5;124;03m\"\"\"\u001b[39;00m\n\u001b[0;32m   4331\u001b[0m \u001b[38;5;124;03m    Invoke function on values of Series.\u001b[39;00m\n\u001b[0;32m   4332\u001b[0m \n\u001b[1;32m   (...)\u001b[0m\n\u001b[0;32m   4431\u001b[0m \u001b[38;5;124;03m    dtype: float64\u001b[39;00m\n\u001b[0;32m   4432\u001b[0m \u001b[38;5;124;03m    \"\"\"\u001b[39;00m\n\u001b[1;32m-> 4433\u001b[0m     \u001b[38;5;28;01mreturn\u001b[39;00m \u001b[43mSeriesApply\u001b[49m\u001b[43m(\u001b[49m\u001b[38;5;28;43mself\u001b[39;49m\u001b[43m,\u001b[49m\u001b[43m \u001b[49m\u001b[43mfunc\u001b[49m\u001b[43m,\u001b[49m\u001b[43m \u001b[49m\u001b[43mconvert_dtype\u001b[49m\u001b[43m,\u001b[49m\u001b[43m \u001b[49m\u001b[43margs\u001b[49m\u001b[43m,\u001b[49m\u001b[43m \u001b[49m\u001b[43mkwargs\u001b[49m\u001b[43m)\u001b[49m\u001b[38;5;241;43m.\u001b[39;49m\u001b[43mapply\u001b[49m\u001b[43m(\u001b[49m\u001b[43m)\u001b[49m\n",
      "File \u001b[1;32mc:\\Users\\Caíque Miranda\\AppData\\Local\\Programs\\Python\\Python310\\lib\\site-packages\\pandas\\core\\apply.py:1088\u001b[0m, in \u001b[0;36mSeriesApply.apply\u001b[1;34m(self)\u001b[0m\n\u001b[0;32m   1084\u001b[0m \u001b[38;5;28;01mif\u001b[39;00m \u001b[38;5;28misinstance\u001b[39m(\u001b[38;5;28mself\u001b[39m\u001b[38;5;241m.\u001b[39mf, \u001b[38;5;28mstr\u001b[39m):\n\u001b[0;32m   1085\u001b[0m     \u001b[38;5;66;03m# if we are a string, try to dispatch\u001b[39;00m\n\u001b[0;32m   1086\u001b[0m     \u001b[38;5;28;01mreturn\u001b[39;00m \u001b[38;5;28mself\u001b[39m\u001b[38;5;241m.\u001b[39mapply_str()\n\u001b[1;32m-> 1088\u001b[0m \u001b[38;5;28;01mreturn\u001b[39;00m \u001b[38;5;28;43mself\u001b[39;49m\u001b[38;5;241;43m.\u001b[39;49m\u001b[43mapply_standard\u001b[49m\u001b[43m(\u001b[49m\u001b[43m)\u001b[49m\n",
      "File \u001b[1;32mc:\\Users\\Caíque Miranda\\AppData\\Local\\Programs\\Python\\Python310\\lib\\site-packages\\pandas\\core\\apply.py:1143\u001b[0m, in \u001b[0;36mSeriesApply.apply_standard\u001b[1;34m(self)\u001b[0m\n\u001b[0;32m   1137\u001b[0m         values \u001b[38;5;241m=\u001b[39m obj\u001b[38;5;241m.\u001b[39mastype(\u001b[38;5;28mobject\u001b[39m)\u001b[38;5;241m.\u001b[39m_values\n\u001b[0;32m   1138\u001b[0m         \u001b[38;5;66;03m# error: Argument 2 to \"map_infer\" has incompatible type\u001b[39;00m\n\u001b[0;32m   1139\u001b[0m         \u001b[38;5;66;03m# \"Union[Callable[..., Any], str, List[Union[Callable[..., Any], str]],\u001b[39;00m\n\u001b[0;32m   1140\u001b[0m         \u001b[38;5;66;03m# Dict[Hashable, Union[Union[Callable[..., Any], str],\u001b[39;00m\n\u001b[0;32m   1141\u001b[0m         \u001b[38;5;66;03m# List[Union[Callable[..., Any], str]]]]]\"; expected\u001b[39;00m\n\u001b[0;32m   1142\u001b[0m         \u001b[38;5;66;03m# \"Callable[[Any], Any]\"\u001b[39;00m\n\u001b[1;32m-> 1143\u001b[0m         mapped \u001b[38;5;241m=\u001b[39m \u001b[43mlib\u001b[49m\u001b[38;5;241;43m.\u001b[39;49m\u001b[43mmap_infer\u001b[49m\u001b[43m(\u001b[49m\n\u001b[0;32m   1144\u001b[0m \u001b[43m            \u001b[49m\u001b[43mvalues\u001b[49m\u001b[43m,\u001b[49m\n\u001b[0;32m   1145\u001b[0m \u001b[43m            \u001b[49m\u001b[43mf\u001b[49m\u001b[43m,\u001b[49m\u001b[43m  \u001b[49m\u001b[38;5;66;43;03m# type: ignore[arg-type]\u001b[39;49;00m\n\u001b[0;32m   1146\u001b[0m \u001b[43m            \u001b[49m\u001b[43mconvert\u001b[49m\u001b[38;5;241;43m=\u001b[39;49m\u001b[38;5;28;43mself\u001b[39;49m\u001b[38;5;241;43m.\u001b[39;49m\u001b[43mconvert_dtype\u001b[49m\u001b[43m,\u001b[49m\n\u001b[0;32m   1147\u001b[0m \u001b[43m        \u001b[49m\u001b[43m)\u001b[49m\n\u001b[0;32m   1149\u001b[0m \u001b[38;5;28;01mif\u001b[39;00m \u001b[38;5;28mlen\u001b[39m(mapped) \u001b[38;5;129;01mand\u001b[39;00m \u001b[38;5;28misinstance\u001b[39m(mapped[\u001b[38;5;241m0\u001b[39m], ABCSeries):\n\u001b[0;32m   1150\u001b[0m     \u001b[38;5;66;03m# GH#43986 Need to do list(mapped) in order to get treated as nested\u001b[39;00m\n\u001b[0;32m   1151\u001b[0m     \u001b[38;5;66;03m#  See also GH#25959 regarding EA support\u001b[39;00m\n\u001b[0;32m   1152\u001b[0m     \u001b[38;5;28;01mreturn\u001b[39;00m obj\u001b[38;5;241m.\u001b[39m_constructor_expanddim(\u001b[38;5;28mlist\u001b[39m(mapped), index\u001b[38;5;241m=\u001b[39mobj\u001b[38;5;241m.\u001b[39mindex)\n",
      "File \u001b[1;32mc:\\Users\\Caíque Miranda\\AppData\\Local\\Programs\\Python\\Python310\\lib\\site-packages\\pandas\\_libs\\lib.pyx:2870\u001b[0m, in \u001b[0;36mpandas._libs.lib.map_infer\u001b[1;34m()\u001b[0m\n",
      "Input \u001b[1;32mIn [5]\u001b[0m, in \u001b[0;36mprocessar_dados.<locals>.<lambda>\u001b[1;34m(x)\u001b[0m\n\u001b[0;32m      4\u001b[0m df[\u001b[38;5;124m'\u001b[39m\u001b[38;5;124mDateTime\u001b[39m\u001b[38;5;124m'\u001b[39m] \u001b[38;5;241m=\u001b[39m pd\u001b[38;5;241m.\u001b[39mto_datetime(df[\u001b[38;5;124m'\u001b[39m\u001b[38;5;124mDateTime\u001b[39m\u001b[38;5;124m'\u001b[39m], \u001b[38;5;28mformat\u001b[39m\u001b[38;5;241m=\u001b[39m\u001b[38;5;124m'\u001b[39m\u001b[38;5;132;01m%d\u001b[39;00m\u001b[38;5;124m/\u001b[39m\u001b[38;5;124m%\u001b[39m\u001b[38;5;124mb/\u001b[39m\u001b[38;5;124m%\u001b[39m\u001b[38;5;124mY \u001b[39m\u001b[38;5;124m%\u001b[39m\u001b[38;5;124mH:\u001b[39m\u001b[38;5;124m%\u001b[39m\u001b[38;5;124mM:\u001b[39m\u001b[38;5;124m%\u001b[39m\u001b[38;5;124mS\u001b[39m\u001b[38;5;124m'\u001b[39m)\n\u001b[0;32m      6\u001b[0m \u001b[38;5;66;03m# Extrair valores numéricos dos campos de alarme\u001b[39;00m\n\u001b[1;32m----> 7\u001b[0m df[\u001b[38;5;124m'\u001b[39m\u001b[38;5;124mAlarmThreshold\u001b[39m\u001b[38;5;124m'\u001b[39m] \u001b[38;5;241m=\u001b[39m df[\u001b[38;5;124m'\u001b[39m\u001b[38;5;124mAlarmAt\u001b[39m\u001b[38;5;124m'\u001b[39m]\u001b[38;5;241m.\u001b[39mapply(\u001b[38;5;28;01mlambda\u001b[39;00m x: \u001b[38;5;28;43mfloat\u001b[39;49m\u001b[43m(\u001b[49m\u001b[43mx\u001b[49m\u001b[38;5;241;43m.\u001b[39;49m\u001b[43msplit\u001b[49m\u001b[43m(\u001b[49m\u001b[38;5;124;43m'\u001b[39;49m\u001b[38;5;124;43m/\u001b[39;49m\u001b[38;5;124;43m'\u001b[39;49m\u001b[43m)\u001b[49m\u001b[43m[\u001b[49m\u001b[38;5;241;43m0\u001b[39;49m\u001b[43m]\u001b[49m\u001b[43m)\u001b[49m)\n\u001b[0;32m      8\u001b[0m df[\u001b[38;5;124m'\u001b[39m\u001b[38;5;124mAlarmValue\u001b[39m\u001b[38;5;124m'\u001b[39m] \u001b[38;5;241m=\u001b[39m df[\u001b[38;5;124m'\u001b[39m\u001b[38;5;124mAlarmAt\u001b[39m\u001b[38;5;124m'\u001b[39m]\u001b[38;5;241m.\u001b[39mapply(\u001b[38;5;28;01mlambda\u001b[39;00m x: \u001b[38;5;28mint\u001b[39m(x\u001b[38;5;241m.\u001b[39msplit(\u001b[38;5;124m'\u001b[39m\u001b[38;5;124m/\u001b[39m\u001b[38;5;124m'\u001b[39m)[\u001b[38;5;241m1\u001b[39m]))\n\u001b[0;32m     10\u001b[0m \u001b[38;5;66;03m# Extrair valores de Current e Peak Alarm\u001b[39;00m\n",
      "\u001b[1;31mValueError\u001b[0m: could not convert string to float: '*2.5'"
     ]
    }
   ],
   "source": [
    "# Processamento adicional dos dados\n",
    "def processar_dados(df):\n",
    "    # Converter DateTime para datetime\n",
    "    df['DateTime'] = pd.to_datetime(df['DateTime'], format='%d/%b/%Y %H:%M:%S')\n",
    "    \n",
    "    # Extrair valores numéricos dos campos de alarme\n",
    "    df['AlarmThreshold'] = df['AlarmAt'].apply(lambda x: float(x.split('/')[0]))\n",
    "    df['AlarmValue'] = df['AlarmAt'].apply(lambda x: int(x.split('/')[1]))\n",
    "    \n",
    "    # Extrair valores de Current e Peak Alarm\n",
    "    df['CurrentAlarmValue'] = df['CurrentAlarm'].apply(lambda x: int(x.split('/')[0]))\n",
    "    df['CurrentAlarmPercentage'] = df['CurrentAlarm'].apply(lambda x: int(x.split('/')[1].replace('%', '').strip()))\n",
    "    \n",
    "    df['PeakAlarmValue'] = df['PeakAlarm'].apply(lambda x: int(x.split('/')[0]))\n",
    "    df['PeakAlarmPercentage'] = df['PeakAlarm'].apply(lambda x: int(x.split('/')[1].replace('%', '').strip()))\n",
    "    \n",
    "    # Extrair informações do Label\n",
    "    df['Location'] = df['Label'].apply(lambda x: x.split('-')[-2] if len(x.split('-')) > 2 else '')\n",
    "    df['SensorType'] = df['Label'].apply(lambda x: x.split('-')[-1] if len(x.split('-')) > 1 else '')\n",
    "    \n",
    "    return df\n",
    "\n",
    "df_processado = processar_dados(df)\n",
    "df_processado.head()"
   ]
  },
  {
   "cell_type": "markdown",
   "metadata": {},
   "source": [
    "### Análises Básicas"
   ]
  },
  {
   "cell_type": "code",
   "execution_count": null,
   "metadata": {},
   "outputs": [],
   "source": [
    "# Estatísticas por Canal\n",
    "print(\"\\nDistribuição de sensores por canal:\")\n",
    "print(df_processado['Channel'].value_counts())\n",
    "\n",
    "# Estatísticas de alarmes\n",
    "print(\"\\nEstatísticas de valores de alarme:\")\n",
    "print(df_processado[['AlarmValue', 'CurrentAlarmValue', 'PeakAlarmValue']].describe())\n",
    "\n",
    "# Contagem de estados\n",
    "print(\"\\nDistribuição de estados:\")\n",
    "print(df_processado['State'].value_counts())"
   ]
  },
  {
   "cell_type": "code",
   "execution_count": null,
   "metadata": {},
   "outputs": [],
   "source": [
    "# Visualização da distribuição de valores de alarme\n",
    "fig = px.box(df_processado, \n",
    "             y=['AlarmValue', 'CurrentAlarmValue', 'PeakAlarmValue'],\n",
    "             title='Distribuição dos Valores de Alarme')\n",
    "fig.show()\n",
    "\n",
    "# Visualização por localização\n",
    "fig = px.bar(df_processado['Location'].value_counts().reset_index(),\n",
    "            x='index',\n",
    "            y='Location',\n",
    "            title='Quantidade de Sensores por Localização')\n",
    "fig.show()"
   ]
  },
  {
   "cell_type": "markdown",
   "metadata": {},
   "source": [
    "### Identificação de Sensores Críticos"
   ]
  },
  {
   "cell_type": "code",
   "execution_count": null,
   "metadata": {},
   "outputs": [],
   "source": [
    "# Identificar sensores com altos valores de pico\n",
    "sensores_criticos = df_processado[df_processado['PeakAlarmPercentage'] > 80].sort_values('PeakAlarmPercentage', ascending=False)\n",
    "\n",
    "print(\"Sensores com valores de pico críticos (>80%):\")\n",
    "sensores_criticos[['DeviceNumber', 'Label', 'PeakAlarmValue', 'PeakAlarmPercentage', 'Location']].head(10)"
   ]
  }
 ],
 "metadata": {
  "kernelspec": {
   "display_name": "Python 3",
   "language": "python",
   "name": "python3"
  },
  "language_info": {
   "codemirror_mode": {
    "name": "ipython",
    "version": 3
   },
   "file_extension": ".py",
   "mimetype": "text/x-python",
   "name": "python",
   "nbconvert_exporter": "python",
   "pygments_lexer": "ipython3",
   "version": "3.10.5"
  }
 },
 "nbformat": 4,
 "nbformat_minor": 2
}
